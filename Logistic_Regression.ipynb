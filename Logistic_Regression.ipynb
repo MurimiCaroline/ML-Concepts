{
  "nbformat": 4,
  "nbformat_minor": 0,
  "metadata": {
    "colab": {
      "provenance": [],
      "authorship_tag": "ABX9TyNSzY2bdMKHPEUZeu2QFQb7",
      "include_colab_link": true
    },
    "kernelspec": {
      "name": "python3",
      "display_name": "Python 3"
    },
    "language_info": {
      "name": "python"
    }
  },
  "cells": [
    {
      "cell_type": "markdown",
      "metadata": {
        "id": "view-in-github",
        "colab_type": "text"
      },
      "source": [
        "<a href=\"https://colab.research.google.com/github/MurimiCaroline/ML-Concepts/blob/master/Logistic_Regression.ipynb\" target=\"_parent\"><img src=\"https://colab.research.google.com/assets/colab-badge.svg\" alt=\"Open In Colab\"/></a>"
      ]
    },
    {
      "cell_type": "code",
      "execution_count": 3,
      "metadata": {
        "colab": {
          "base_uri": "https://localhost:8080/"
        },
        "id": "E3UL4LPn9tfR",
        "outputId": "362b9c8c-3913-473e-e844-a54abe6a3b82"
      },
      "outputs": [
        {
          "output_type": "stream",
          "name": "stdout",
          "text": [
            "[[-0.60583897 -0.29313058]\n",
            " [-0.37682768 -0.09050576]\n",
            " [ 0.56003671  0.71999355]\n",
            " [ 0.14365254 -0.09050576]\n",
            " [-0.14781638 -0.09050576]\n",
            " [-0.68911581 -0.49575541]\n",
            " [-0.48092372 -0.41470548]\n",
            " [ 3.47472592  2.34099218]\n",
            " [-0.32269773 -0.49575541]\n",
            " [-0.56420055 -0.29313058]\n",
            " [-0.89730789 -0.49575541]\n",
            " [-0.27273163 -0.57680534]\n",
            " [-0.68911581 -0.33365555]\n",
            " [-0.68911581 -0.49575541]\n",
            " [-0.62665818 -0.57680534]\n",
            " [-0.10617796 -0.09050576]\n",
            " [ 0.56003671 -0.09050576]\n",
            " [ 0.14365254 -0.49575541]\n",
            " [-0.14781638 -0.29313058]\n",
            " [-0.68911581 -0.41470548]\n",
            " [-0.48092372 -0.33365555]\n",
            " [ 2.64195758  3.15149149]\n",
            " [-0.21027401 -0.49575541]\n",
            " [-0.29355084 -0.29313058]\n",
            " [-0.89730789 -0.69838024]\n",
            " [-0.27273163 -0.17155569]\n",
            " [ 1.80918923 -0.41470548]\n",
            " [-0.59751129 -0.33365555]\n",
            " [ 0.97642089  3.15149149]\n",
            " [-0.25191242 -0.49575541]]\n",
            "Value to be predicted:  [[-0.68911581 -0.57680534]]\n",
            "predicted label =  [1]\n",
            "probability =  [[0.41886952 0.58113048]]\n"
          ]
        }
      ],
      "source": [
        "# Import StandardScaler from sklearn.preprocessing.\n",
        "from sklearn.preprocessing import StandardScaler\n",
        "# Import LogisticRegression from sklearn.linear_model.\n",
        "from sklearn.linear_model import LogisticRegression\n",
        "# Each item in X denotes the rent and area.\n",
        "# y indicates whether to rent the room (0: no; 1: yes).\n",
        "X=[[2200,15],[2750,20],[5000,40],[4000,20],[3300,20],[2000,10],[2500,12],[12000,80],\n",
        "[2880,10],[2300,15],[1500,10],[3000,8],[2000,14],[2000,10],[2150,8],[3400,20],\n",
        "[5000,20],[4000,10],[3300,15],[2000,12],[2500,14],[10000,100],[3150,10],\n",
        "[2950,15],[1500,5],[3000,18],[8000,12],[2220,14],[6000,100],[3050,10]\n",
        "]\n",
        "y=[1,1,0,0,1,1,1,1,0,1,1,0,1,1,0,1,0,0,0,1,1,1,0,1,0,1,0,1,1,0]\n",
        "ss = StandardScaler()\n",
        "X_train = ss.fit_transform(X)\n",
        "print(X_train)\n",
        "# Use the fit method of LogisticRegression to train model parameters.\n",
        "lr = LogisticRegression()\n",
        "lr.fit(X_train, y)\n",
        "testX = [[2000,8]]\n",
        "X_test = ss.transform(testX)\n",
        "print(\"Value to be predicted: \",X_test)\n",
        "label = lr.predict(X_test)\n",
        "print(\"predicted label = \", label)\n",
        "# Output the predicted probability.\n",
        "prob = lr.predict_proba(X_test)\n",
        "print(\"probability = \",prob)\n"
      ]
    }
  ]
}