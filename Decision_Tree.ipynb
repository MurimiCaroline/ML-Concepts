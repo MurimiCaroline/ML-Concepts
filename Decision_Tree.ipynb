{
  "nbformat": 4,
  "nbformat_minor": 0,
  "metadata": {
    "colab": {
      "provenance": [],
      "authorship_tag": "ABX9TyNbOx6W1pvY6g7bOYc5Hv27",
      "include_colab_link": true
    },
    "kernelspec": {
      "name": "python3",
      "display_name": "Python 3"
    },
    "language_info": {
      "name": "python"
    }
  },
  "cells": [
    {
      "cell_type": "markdown",
      "metadata": {
        "id": "view-in-github",
        "colab_type": "text"
      },
      "source": [
        "<a href=\"https://colab.research.google.com/github/MurimiCaroline/ML-Concepts/blob/master/Decision_Tree.ipynb\" target=\"_parent\"><img src=\"https://colab.research.google.com/assets/colab-badge.svg\" alt=\"Open In Colab\"/></a>"
      ]
    },
    {
      "cell_type": "code",
      "execution_count": 2,
      "metadata": {
        "colab": {
          "base_uri": "https://localhost:8080/",
          "height": 140
        },
        "id": "Sb1Q5Aef-0RS",
        "outputId": "d8aad398-160b-4708-b609-b621ea52eb68"
      },
      "outputs": [
        {
          "output_type": "error",
          "ename": "IndentationError",
          "evalue": "ignored",
          "traceback": [
            "\u001b[0;36m  File \u001b[0;32m\"<ipython-input-2-043599cf985c>\"\u001b[0;36m, line \u001b[0;32m7\u001b[0m\n\u001b[0;31m    data = trainingData.iloc[:, :-1] # Feature matrix\u001b[0m\n\u001b[0m    ^\u001b[0m\n\u001b[0;31mIndentationError\u001b[0m\u001b[0;31m:\u001b[0m expected an indented block after function definition on line 6\n"
          ]
        }
      ],
      "source": [
        "import pandas as pd\n",
        "import numpy as np\n",
        "from sklearn import tree\n",
        "import pydotplus\n",
        "# Generate a decision tree.\n",
        "def createTree(trainingData):\n",
        "data = trainingData.iloc[:, :-1] # Feature matrix\n",
        "labels = trainingData.iloc[:, -1] # Labels\n",
        "trainedTree = tree.DecisionTreeClassifier(criterion=\"entropy\") # Decision tree classifier\n",
        "trainedTree.fit(data, labels) # Train the model.\n",
        "return trainedTree\n",
        "def showtree2pdf(trainedTree,finename):\n",
        "dot_data = tree.export_graphviz(trainedTree, out_file=None) # Export the tree in Graphviz format.\n",
        "graph = pydotplus.graph_from_dot_data(dot_data)\n",
        "graph.write_pdf(finename) # Save the tree diagram to the local machine in PDF format.\n",
        "def data2vectoc(data):\n",
        "names = data.columns[:-1]\n",
        "for i in names:\n",
        "col = pd.Categorical(data[i])\n",
        "data[i] = col.codes\n",
        "return data\n",
        "data = pd.read_table(\"./ML/tennis.txt\",header=None,sep='\\t') # Read training data.\n",
        "trainingvec=data2vectoc(data) # Vectorize data.\n",
        "decisionTree=createTree(trainingvec) # Create a decision tree.\n",
        "showtree2pdf(decisionTree,\"tennis.pdf\") # Plot the decision tree.\n",
        "testVec = [0,0,1,1] # Weather is sunny, temperature is low, humidity is high, and wind is strong.\n",
        "print(decisionTree.predict(np.array(testVec).reshape(1,-1))) # Predict.\n"
      ]
    }
  ]
}